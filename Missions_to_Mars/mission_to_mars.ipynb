{
 "metadata": {
  "language_info": {
   "codemirror_mode": {
    "name": "ipython",
    "version": 3
   },
   "file_extension": ".py",
   "mimetype": "text/x-python",
   "name": "python",
   "nbconvert_exporter": "python",
   "pygments_lexer": "ipython3",
   "version": "3.8.5-final"
  },
  "orig_nbformat": 2,
  "kernelspec": {
   "name": "python3",
   "display_name": "Python 3",
   "language": "python"
  }
 },
 "nbformat": 4,
 "nbformat_minor": 2,
 "cells": [
  {
   "source": [
    "## Nasa Mars News"
   ],
   "cell_type": "markdown",
   "metadata": {}
  },
  {
   "cell_type": "code",
   "execution_count": 1,
   "metadata": {},
   "outputs": [],
   "source": [
    "# Dependencies\n",
    "from bs4 import BeautifulSoup as bs\n",
    "import requests"
   ]
  },
  {
   "cell_type": "code",
   "execution_count": 2,
   "metadata": {},
   "outputs": [],
   "source": [
    "mars_facts_url = 'https://space-facts.com/mars/'"
   ]
  },
  {
   "cell_type": "code",
   "execution_count": 3,
   "metadata": {},
   "outputs": [],
   "source": [
    "response = requests.get(mars_facts_url)"
   ]
  },
  {
   "cell_type": "code",
   "execution_count": 4,
   "metadata": {},
   "outputs": [],
   "source": [
    "# Create BeautifulSoup object; parse with 'html.parser'\n",
    "soup = bs(response.text, 'html.parser')"
   ]
  },
  {
   "cell_type": "code",
   "execution_count": 5,
   "metadata": {
    "tags": [
     "outputPrepend"
    ]
   },
   "outputs": [
    {
     "output_type": "stream",
     "name": "stdout",
     "text": [
      "e ancient Greeks called the planet Ares, after their god of war; the Romans then did likewise, associating the planet’s blood-red colour with Mars, their own god of war. Interestingly, other ancient cultures also focused on colour – to China’s astronomers it was ‘the fire star’, whilst Egyptian priests called on ‘Her Desher’, or ‘the red one’. The red colour Mars is known for is due to the rock and dust covering its surface being rich in iron.\n          </li>\n          <li>\n           <strong>\n            There are signs of liquid water on Mars.\n           </strong>\n           <br/>\n           For years Mars has been known to have water in the form of ice. The first signs of trickling water are dark stripes or stains on crater wall and cliffs seen in satellite images. Due to Mars’ atmosphere this water would have to be salty to prevent it from freezing or vaporising.\n          </li>\n          <li>\n           <strong>\n            One day Mars will have a ring.\n           </strong>\n           <br/>\n           In the next 20-40 million years Mars’ largest moon Phobos will be torn apart by gravitational forces leading to the creation of a ring that could last up to 100 million years.\n          </li>\n          <li>\n           <strong>\n            Sunsets on Mars are blue.\n           </strong>\n           <br/>\n           During the martian day the sky is pinkish-red, this is the opposite of the Earth’s skies.\n          </li>\n         </ul>\n        </div>\n        <h2>\n         Mars Diagrams\n        </h2>\n        <div class=\"diagram-background\" id=\"diagrams\">\n         <div class=\"wp-block-image\">\n          <figure class=\"aligncenter\">\n           <img alt=\"Mars size compared to Earth\" class=\"wp-image-6263\" height=\"300\" loading=\"lazy\" sizes=\"(max-width: 760px) 100vw, 760px\" src=\"https://space-facts.com/wp-content/uploads/mars-size.png\" srcset=\"https://space-facts.com/wp-content/uploads/mars-size.png 760w, https://space-facts.com/wp-content/uploads/mars-size-300x118.png 300w\" width=\"760\"/>\n           <figcaption>\n            <span class=\"mars\">\n             Mars\n            </span>\n            size compared to\n            <span class=\"earth\">\n             Earth\n            </span>\n           </figcaption>\n          </figure>\n         </div>\n         <div class=\"wp-block-image\">\n          <figure class=\"aligncenter\">\n           <img alt=\"Mars distance from the Sun\" class=\"wp-image-6262\" height=\"50\" loading=\"lazy\" sizes=\"(max-width: 760px) 100vw, 760px\" src=\"https://space-facts.com/wp-content/uploads/mars-orbit.png\" srcset=\"https://space-facts.com/wp-content/uploads/mars-orbit.png 760w, https://space-facts.com/wp-content/uploads/mars-orbit-300x20.png 300w\" width=\"760\"/>\n           <figcaption>\n            <span class=\"mars\">\n             Mars\n            </span>\n            distance from the\n            <span class=\"sun\">\n             Sun\n            </span>\n            and orbital eccentricity\n           </figcaption>\n          </figure>\n         </div>\n         <table class=\"tablepress tablepress-id-comp-mars blue-table\" id=\"tablepress-comp-mars\">\n          <thead>\n           <tr class=\"row-1\">\n            <th class=\"column-1\">\n             <strong>\n              Mars - Earth Comparison\n             </strong>\n            </th>\n            <th class=\"column-2\">\n             <span class=\"mars\">\n              Mars\n             </span>\n            </th>\n            <th class=\"column-3\">\n             <span class=\"earth\">\n              Earth\n             </span>\n            </th>\n           </tr>\n          </thead>\n          <tbody>\n           <tr class=\"row-2\">\n            <td class=\"column-1\">\n             Diameter:\n            </td>\n            <td class=\"column-2\">\n             <span class=\"mars-s\">\n              6,779 km\n             </span>\n            </td>\n            <td class=\"column-3\">\n             <span class=\"earth-s\">\n              12,742 km\n             </span>\n            </td>\n           </tr>\n           <tr class=\"row-3\">\n            <td class=\"column-1\">\n             Mass:\n            </td>\n            <td class=\"column-2\">\n             <span class=\"mars-s\">\n              6.39 × 10^23 kg\n             </span>\n            </td>\n            <td class=\"column-3\">\n             <span class=\"earth-s\">\n              5.97 × 10^24 kg\n             </span>\n            </td>\n           </tr>\n           <tr class=\"row-4\">\n            <td class=\"column-1\">\n             Moons:\n            </td>\n            <td class=\"column-2\">\n             <span class=\"mars-s\">\n              2\n             </span>\n            </td>\n            <td class=\"column-3\">\n             <span class=\"earth-s\">\n              1\n             </span>\n            </td>\n           </tr>\n           <tr class=\"row-5\">\n            <td class=\"column-1\">\n             Distance from Sun:\n            </td>\n            <td class=\"column-2\">\n             <span class=\"mars-s\">\n              227,943,824 km\n             </span>\n            </td>\n            <td class=\"column-3\">\n             <span class=\"earth-s\">\n              149,598,262 km\n             </span>\n            </td>\n           </tr>\n           <tr class=\"row-6\">\n            <td class=\"column-1\">\n             Length of Year:\n            </td>\n            <td class=\"column-2\">\n             <span class=\"mars-s\">\n              687 Earth days\n             </span>\n            </td>\n            <td class=\"column-3\">\n             <span class=\"earth-s\">\n              365.24 days\n             </span>\n            </td>\n           </tr>\n           <tr class=\"row-7\">\n            <td class=\"column-1\">\n             Temperature:\n            </td>\n            <td class=\"column-2\">\n             <span class=\"mars-s\">\n              -87 to -5 °C\n             </span>\n            </td>\n            <td class=\"column-3\">\n             <span class=\"earth-s\">\n              -88 to 58°C\n             </span>\n            </td>\n           </tr>\n          </tbody>\n         </table>\n        </div>\n        <h2>\n         Mars Features\n        </h2>\n        <h3>\n         Moons\n        </h3>\n        <p>\n         Mars has two small moons,\n         <a href=\"https://space-facts.com/moons/phobos/\">\n          Phobos\n         </a>\n         and\n         <a href=\"https://space-facts.com/moons/deimos/\">\n          Deimos\n         </a>\n         . They were discovered in 1877 by astronomer Asaph Hall, who named them for the Latin terms “fear” and “panic”. These moons are thought to be captured asteroids and are among the smallest natural satellites in the solar system.\n        </p>\n        <h3>\n         Olympus Mons\n        </h3>\n        <p>\n         Mars has the largest volcano in the solar system – Olympus Mons. It measures some 600 kilometres across and rises nearly 27 kilometres above the surrounding terrain. It is a shield volcano built by the continuous action of flowing lava over millions and millions of years that began some 3 billion years ago.\n        </p>\n        <p>\n         Olympus Mons is part of a complex of volcanoes that lie along a volcanic plateau called the Tharsis Bulge. This entire region lies over a hotspot, a place in the planet’s crust that allows magma from deep inside to flow out to the surface.\n        </p>\n        <h3>\n         Valles Marineris\n        </h3>\n        <p>\n         The Valles Marineris is an extensive canyon system on the Mars equator. It is 4,200 kilometres long and, in places, is 7 kilometres deep. On Earth, it would span the entire North American continent and  beyond.\n        </p>\n        <p>\n         Mars has has a very primitive form of plate tectonics, and the action of two plates past each other began splitting the surface some 3.5 billion years ago. That set the stage for the formation of the Valles Marineris.\n        </p>\n        <p class=\"sources\">\n         <strong>\n          Sources:\n         </strong>\n         <a href=\"https://solarsystem.nasa.gov/planets/mars/overview/\">\n          https://solarsystem.nasa.gov/planets/mars/overview/\n         </a>\n         ,\n         <a href=\"https://nssdc.gsfc.nasa.gov/planetary/factsheet/marsfact.html\">\n          https://nssdc.gsfc.nasa.gov/planetary/factsheet/marsfact.html\n         </a>\n         ,\n         <a href=\"https://astrogeology.usgs.gov/maps/mars-viking-hemisphere-point-perspectives\">\n          https://astrogeology.usgs.gov/maps/mars-viking-hemisphere-point-perspectives\n         </a>\n         <br/>\n         <strong>\n          First Published:\n         </strong>\n         June 2012\n         <br/>\n         <strong>\n          Last Updated:\n         </strong>\n         May 2020\n         <br/>\n         <strong>\n          Author:\n         </strong>\n         <a href=\"https://space-facts.com/about/#chris\">\n          Chris Jones\n         </a>\n        </p>\n       </div>\n      </article>\n      <div class=\"widget_text widget widget_custom_html widget-bottom\" id=\"custom_html-3\">\n       <div class=\"textwidget custom-html-widget\">\n        <div class=\"ad-bottom\">\n         <center>\n          <script async=\"\" src=\"https://pagead2.googlesyndication.com/pagead/js/adsbygoogle.js\">\n          </script>\n          <ins class=\"adsbygoogle\" data-ad-client=\"ca-pub-4251889121233823\" data-ad-format=\"rectangle\" data-ad-slot=\"4958505060\" data-full-width-responsive=\"true\" style=\"display:block\">\n          </ins>\n          <script>\n           (adsbygoogle = window.adsbygoogle || []).push({});\n          </script>\n         </center>\n        </div>\n       </div>\n      </div>\n      <div class=\"widget widget_text widget-bottom\" id=\"text-69\">\n       <div class=\"textwidget\">\n        <h3 class=\"widget-title widget-header\">\n         Related space facts:\n        </h3>\n        <div class=\"jp-relatedposts\" id=\"jp-relatedposts\">\n        </div>\n       </div>\n      </div>\n      <div class=\"comments-area\" id=\"comments\">\n      </div>\n     </main>\n    </section>\n    <section class=\"sidebar widget-area clearfix\" id=\"secondary\" role=\"complementary\">\n     <aside class=\"widget widget_text clearfix\" id=\"text-2\">\n      <div class=\"widget-header\">\n       <h3 class=\"widget-title\">\n        Mars Planet Profile\n       </h3>\n      </div>\n      <div class=\"textwidget\">\n       <table class=\"tablepress tablepress-id-p-mars\" id=\"tablepress-p-mars-no-2\">\n        <tbody>\n         <tr class=\"row-1 odd\">\n          <td class=\"column-1\">\n           <strong>\n            Equatorial Diameter:\n           </strong>\n          </td>\n          <td class=\"column-2\">\n           6,792 km\n           <br/>\n          </td>\n         </tr>\n         <tr class=\"row-2 even\">\n          <td class=\"column-1\">\n           <strong>\n            Polar Diameter:\n           </strong>\n          </td>\n          <td class=\"column-2\">\n           6,752 km\n           <br/>\n          </td>\n         </tr>\n         <tr class=\"row-3 odd\">\n          <td class=\"column-1\">\n           <strong>\n            Mass:\n           </strong>\n          </td>\n          <td class=\"column-2\">\n           6.39 × 10^23 kg\n           <br>\n            (0.11 Earths)\n           </br>\n          </td>\n         </tr>\n         <tr class=\"row-4 even\">\n          <td class=\"column-1\">\n           <strong>\n            Moons:\n           </strong>\n          </td>\n          <td class=\"column-2\">\n           2 (\n           <a href=\"https://space-facts.com/moons/phobos/\">\n            Phobos\n           </a>\n           &amp;\n           <a href=\"https://space-facts.com/moons/deimos/\">\n            Deimos\n           </a>\n           )\n          </td>\n         </tr>\n         <tr class=\"row-5 odd\">\n          <td class=\"column-1\">\n           <strong>\n            Orbit Distance:\n           </strong>\n          </td>\n          <td class=\"column-2\">\n           227,943,824 km\n           <br>\n            (1.38 AU)\n           </br>\n          </td>\n         </tr>\n         <tr class=\"row-6 even\">\n          <td class=\"column-1\">\n           <strong>\n            Orbit Period:\n           </strong>\n          </td>\n          <td class=\"column-2\">\n           687 days (1.9 years)\n           <br/>\n          </td>\n         </tr>\n         <tr class=\"row-7 odd\">\n          <td class=\"column-1\">\n           <strong>\n            Surface Temperature:\n           </strong>\n          </td>\n          <td class=\"column-2\">\n           -87 to -5 °C\n          </td>\n         </tr>\n         <tr class=\"row-8 even\">\n          <td class=\"column-1\">\n           <strong>\n            First Record:\n           </strong>\n          </td>\n          <td class=\"column-2\">\n           2nd millennium BC\n          </td>\n         </tr>\n         <tr class=\"row-9 odd\">\n          <td class=\"column-1\">\n           <strong>\n            Recorded By:\n           </strong>\n          </td>\n          <td class=\"column-2\">\n           Egyptian astronomers\n          </td>\n         </tr>\n        </tbody>\n       </table>\n      </div>\n     </aside>\n     <aside class=\"widget_text widget widget_custom_html clearfix\" id=\"custom_html-7\">\n      <div class=\"widget-header\">\n       <h3 class=\"widget-title\">\n        Planets\n       </h3>\n      </div>\n      <div class=\"textwidget custom-html-widget\">\n       <ul class=\"widgets-list-layout\">\n        <li>\n         <a href=\"/mercury/\">\n          <img alt=\"Mercury Facts\" height=\"50\" src=\"https://space-facts.com/wp-content/uploads/mercury-50x50.png\" width=\"50\"/>\n          <div class=\"widgets-list-layout-links\">\n           Mercury\n          </div>\n         </a>\n        </li>\n        <li>\n         <a href=\"/venus/\">\n          <img alt=\"Venus Facts\" height=\"50\" src=\"https://space-facts.com/wp-content/uploads/venus-50x50.png\" width=\"50\"/>\n          <div class=\"widgets-list-layout-links\">\n           Venus\n          </div>\n         </a>\n        </li>\n        <li>\n         <a href=\"/earth/\">\n          <img alt=\"Earth Facts\" height=\"50\" src=\"https://space-facts.com/wp-content/uploads/earth-50x50.png\" width=\"50\"/>\n          <div class=\"widgets-list-layout-links\">\n           Earth\n          </div>\n         </a>\n        </li>\n        <li>\n         <a href=\"/mars/\">\n          <img alt=\"Mars Facts\" height=\"50\" src=\"https://space-facts.com/wp-content/uploads/mars-50x50.jpg\" width=\"50\"/>\n          <div class=\"widgets-list-layout-links\">\n           Mars\n          </div>\n         </a>\n        </li>\n        <li>\n         <a href=\"/jupiter/\">\n          <img alt=\"Jupiter Facts\" height=\"50\" src=\"https://space-facts.com/wp-content/uploads/jupiter-50x50.png\" width=\"50\"/>\n          <div class=\"widgets-list-layout-links\">\n           Jupiter\n          </div>\n         </a>\n        </li>\n        <li>\n         <a href=\"/saturn/\">\n          <img alt=\"Saturn Facts\" height=\"50\" src=\"https://space-facts.com/wp-content/uploads/saturn-50x50.png\" width=\"50\"/>\n          <div class=\"widgets-list-layout-links\">\n           Saturn\n          </div>\n         </a>\n        </li>\n        <li>\n         <a href=\"/uranus/\">\n          <img alt=\"Uranus Facts\" height=\"50\" src=\"https://space-facts.com/wp-content/uploads/uranus-50x50.jpg\" width=\"50\"/>\n          <div class=\"widgets-list-layout-links\">\n           Uranus\n          </div>\n         </a>\n        </li>\n        <li>\n         <a href=\"/neptune/\">\n          <img alt=\"Neptune Facts\" height=\"50\" src=\"https://space-facts.com/wp-content/uploads/neptune-50x50.png\" width=\"50\"/>\n          <div class=\"widgets-list-layout-links\">\n           Neptune\n          </div>\n         </a>\n        </li>\n       </ul>\n      </div>\n     </aside>\n     <aside class=\"widget_text widget widget_custom_html clearfix\" id=\"custom_html-4\">\n      <div class=\"textwidget custom-html-widget\">\n       <script async=\"\" src=\"https://pagead2.googlesyndication.com/pagead/js/adsbygoogle.js\">\n       </script>\n       <ins class=\"adsbygoogle\" data-ad-client=\"ca-pub-4251889121233823\" data-ad-format=\"vertical\" data-ad-slot=\"3223531810\" data-full-width-responsive=\"true\" style=\"display:block\">\n       </ins>\n       <script>\n        (adsbygoogle = window.adsbygoogle || []).push({});\n       </script>\n      </div>\n     </aside>\n     <aside class=\"widget widget_recent_entries clearfix\" id=\"recent-posts-2\">\n      <div class=\"widget-header\">\n       <h3 class=\"widget-title\">\n        Recent Posts\n       </h3>\n      </div>\n      <ul>\n       <li>\n        <a href=\"https://space-facts.com/dr-james-odonoghues-space-animations/\">\n         Dr James O’Donoghue’s Space Animations\n        </a>\n       </li>\n       <li>\n        <a href=\"https://space-facts.com/googles-planet-scale-mistake/\">\n         Google’s Planet Scale Mistake\n        </a>\n       </li>\n       <li>\n        <a href=\"https://space-facts.com/the-ultimate-list-of-tv-shows-set-in-space-or-on-other-planets/\">\n         The Ultimate List of TV Shows set in Space or on Other Planets\n        </a>\n       </li>\n       <li>\n        <a href=\"https://space-facts.com/jupiters-galilean-moons-profile-gifs/\">\n         Jupiter’s Galilean Moons (Profile Gifs)\n        </a>\n       </li>\n       <li>\n        <a href=\"https://space-facts.com/planets-moons-star-wars/\">\n         The Planets and Moons of Star Wars to Scale\n        </a>\n       </li>\n       <li>\n        <a href=\"https://space-facts.com/planet-orbits/\">\n         Planet Orbits\n        </a>\n       </li>\n      </ul>\n     </aside>\n    </section>\n   </div>\n   <div class=\"footer-widgets-wrap\" id=\"footer-widgets-wrap\">\n    <div class=\"footer-widgets container\" id=\"footer-widgets\">\n     <div class=\"footer-widgets-columns clearfix\" id=\"footer-widgets-columns\" role=\"complementary\">\n      <div class=\"footer-widget-column\">\n       <aside class=\"widget widget_eu_cookie_law_widget clearfix\" id=\"eu_cookie_law_widget-2\">\n        <div class=\"hide-on-button negative\" data-consent-expiration=\"180\" data-hide-timeout=\"30\" id=\"eu-cookie-law\">\n         <form method=\"post\">\n          <input class=\"accept\" type=\"submit\" value=\"Close and accept\"/>\n         </form>\n         Privacy &amp; Cookies: This site uses cookies. By continuing to use this website, you agree to their use.\n         <br>\n          To find out more, including how to control cookies, see here:\n          <a href=\"https://space-facts.com/privacy-policy/\" rel=\"\">\n           Cookie Policy\n          </a>\n         </br>\n        </div>\n       </aside>\n      </div>\n     </div>\n    </div>\n   </div>\n   <div class=\"footer-wrap\" id=\"footer\">\n    <footer class=\"site-footer container clearfix\" id=\"colophon\" role=\"contentinfo\">\n     <div class=\"site-info\" id=\"footer-text\">\n      © Copyright 2019 Space Facts\n     </div>\n     <nav class=\"footer-navigation navigation clearfix\" id=\"footer-navigation\" role=\"navigation\">\n      <ul class=\"footer-navigation-menu\" id=\"menu-footer\">\n       <li class=\"menu-item menu-item-type-post_type menu-item-object-page menu-item-5584\" id=\"menu-item-5584\">\n        <a href=\"https://space-facts.com/blog/\">\n         Blog\n        </a>\n       </li>\n       <li class=\"menu-item menu-item-type-post_type menu-item-object-page menu-item-5585\" id=\"menu-item-5585\">\n        <a href=\"https://space-facts.com/about/\">\n         About\n        </a>\n       </li>\n       <li class=\"menu-item menu-item-type-post_type menu-item-object-page menu-item-5595\" id=\"menu-item-5595\">\n        <a href=\"https://space-facts.com/contact/\">\n         Contact\n        </a>\n       </li>\n       <li class=\"menu-item menu-item-type-post_type menu-item-object-page menu-item-5589\" id=\"menu-item-5589\">\n        <a href=\"https://space-facts.com/privacy-policy/\">\n         Privacy Policy\n        </a>\n       </li>\n      </ul>\n     </nav>\n    </footer>\n   </div>\n  </div>\n  <script id=\"megamenu-js-extra\" type=\"text/javascript\">\n   var megamenu = {\"timeout\":\"300\",\"interval\":\"100\"};\n  </script>\n  <script defer=\"\" src=\"https://stats.wp.com/e-202112.js\">\n  </script>\n  <script>\n   _stq = window._stq || [];\n\t_stq.push([ 'view', {v:'ext',j:'1:9.5',blog:'37359843',post:'7',tz:'0',srv:'space-facts.com'} ]);\n\t_stq.push([ 'clickTrackerInit', '37359843', '7' ]);\n  </script>\n  <script defer=\"\" src=\"https://space-facts.com/wp-content/cache/autoptimize/js/autoptimize_ef843f31f8d8e6eb24d8505ab37d29d2.js\">\n  </script>\n </body>\n</html>\n"
     ]
    }
   ],
   "source": [
    "# Examine the results, then determine element that contains sought info\n",
    "print(soup.prettify())"
   ]
  },
  {
   "cell_type": "code",
   "execution_count": 6,
   "metadata": {},
   "outputs": [],
   "source": [
    "#Scrape the NASA Mars News Site and collect the latest News Title and Paragraph Text. Assign the text to variables that you can reference later.\n",
    "mars_news_scraped = soup.find('div', id = 'facts' )"
   ]
  },
  {
   "cell_type": "code",
   "execution_count": 7,
   "metadata": {},
   "outputs": [
    {
     "output_type": "stream",
     "name": "stdout",
     "text": [
      "Mars and Earth have approximately the same landmass.\nMars is home to the tallest mountain in the solar system.Olympus Mons, a shield volcano, is 21km high and 600km in diameter. Despite having formed over billions of years, evidence from volcanic lava flows is so recent many scientists believe it could still be active.\n"
     ]
    }
   ],
   "source": [
    "headline = mars_news_scraped.find('strong').text\n",
    "mars_list = mars_news_scraped.find_all('li')[0]\n",
    "news_text = mars_list.next_sibling.text\n",
    "print(headline)\n",
    "print(news_text)"
   ]
  },
  {
   "source": [
    "## JPL Mars Space Images - Featured Image"
   ],
   "cell_type": "markdown",
   "metadata": {}
  },
  {
   "cell_type": "code",
   "execution_count": 8,
   "metadata": {},
   "outputs": [],
   "source": [
    "#Setup dependencies\n",
    "from splinter import Browser\n",
    "from bs4 import BeautifulSoup\n",
    "from webdriver_manager.chrome import ChromeDriverManager"
   ]
  },
  {
   "cell_type": "code",
   "execution_count": 9,
   "metadata": {},
   "outputs": [
    {
     "output_type": "stream",
     "name": "stderr",
     "text": [
      "[WDM] - ====== WebDriver manager ======\n",
      "[WDM] - Current google-chrome version is 89.0.4389\n",
      "[WDM] - Get LATEST driver version for 89.0.4389\n",
      "\n",
      "\n",
      "[WDM] - Driver [/Users/ericmedina/.wdm/drivers/chromedriver/mac64/89.0.4389.23/chromedriver] found in cache\n"
     ]
    }
   ],
   "source": [
    "#Set up Splinter\n",
    "executable_path = {'executable_path': ChromeDriverManager().install()}\n",
    "browser = Browser('chrome', **executable_path, headless=False)"
   ]
  },
  {
   "cell_type": "code",
   "execution_count": 10,
   "metadata": {},
   "outputs": [],
   "source": [
    "image_url = 'https://data-class-jpl-space.s3.amazonaws.com/JPL_Space/index.html'\n",
    "browser.visit(image_url)"
   ]
  },
  {
   "cell_type": "code",
   "execution_count": 11,
   "metadata": {},
   "outputs": [
    {
     "output_type": "stream",
     "name": "stdout",
     "text": [
      "https://data-class-jpl-space.s3.amazonaws.com/JPL_Space/image/featured/mars1.jpg\n"
     ]
    }
   ],
   "source": [
    "image_html = browser.html\n",
    "image_soup = BeautifulSoup(image_html, 'html.parser')\n",
    "featured_image = image_soup.find('div', class_ = 'floating_text_area')\n",
    "featured_image_url = 'https://data-class-jpl-space.s3.amazonaws.com/JPL_Space/' + featured_image.a['href']\n",
    "print(featured_image_url)"
   ]
  },
  {
   "cell_type": "code",
   "execution_count": 12,
   "metadata": {},
   "outputs": [],
   "source": [
    "browser.visit(featured_image_url)\n",
    "browser.quit()"
   ]
  },
  {
   "source": [
    "## Mars Facts"
   ],
   "cell_type": "markdown",
   "metadata": {}
  },
  {
   "cell_type": "code",
   "execution_count": 13,
   "metadata": {},
   "outputs": [],
   "source": [
    "#dependencies\n",
    "import pandas as pd"
   ]
  },
  {
   "cell_type": "code",
   "execution_count": 15,
   "metadata": {},
   "outputs": [
    {
     "output_type": "execute_result",
     "data": {
      "text/plain": [
       "                      0                              1\n",
       "0  Equatorial Diameter:                       6,792 km\n",
       "1       Polar Diameter:                       6,752 km\n",
       "2                 Mass:  6.39 × 10^23 kg (0.11 Earths)\n",
       "3                Moons:            2 (Phobos & Deimos)\n",
       "4       Orbit Distance:       227,943,824 km (1.38 AU)\n",
       "5         Orbit Period:           687 days (1.9 years)\n",
       "6  Surface Temperature:                   -87 to -5 °C\n",
       "7         First Record:              2nd millennium BC\n",
       "8          Recorded By:           Egyptian astronomers"
      ],
      "text/html": "<div>\n<style scoped>\n    .dataframe tbody tr th:only-of-type {\n        vertical-align: middle;\n    }\n\n    .dataframe tbody tr th {\n        vertical-align: top;\n    }\n\n    .dataframe thead th {\n        text-align: right;\n    }\n</style>\n<table border=\"1\" class=\"dataframe\">\n  <thead>\n    <tr style=\"text-align: right;\">\n      <th></th>\n      <th>0</th>\n      <th>1</th>\n    </tr>\n  </thead>\n  <tbody>\n    <tr>\n      <th>0</th>\n      <td>Equatorial Diameter:</td>\n      <td>6,792 km</td>\n    </tr>\n    <tr>\n      <th>1</th>\n      <td>Polar Diameter:</td>\n      <td>6,752 km</td>\n    </tr>\n    <tr>\n      <th>2</th>\n      <td>Mass:</td>\n      <td>6.39 × 10^23 kg (0.11 Earths)</td>\n    </tr>\n    <tr>\n      <th>3</th>\n      <td>Moons:</td>\n      <td>2 (Phobos &amp; Deimos)</td>\n    </tr>\n    <tr>\n      <th>4</th>\n      <td>Orbit Distance:</td>\n      <td>227,943,824 km (1.38 AU)</td>\n    </tr>\n    <tr>\n      <th>5</th>\n      <td>Orbit Period:</td>\n      <td>687 days (1.9 years)</td>\n    </tr>\n    <tr>\n      <th>6</th>\n      <td>Surface Temperature:</td>\n      <td>-87 to -5 °C</td>\n    </tr>\n    <tr>\n      <th>7</th>\n      <td>First Record:</td>\n      <td>2nd millennium BC</td>\n    </tr>\n    <tr>\n      <th>8</th>\n      <td>Recorded By:</td>\n      <td>Egyptian astronomers</td>\n    </tr>\n  </tbody>\n</table>\n</div>"
     },
     "metadata": {},
     "execution_count": 15
    }
   ],
   "source": [
    "#create tables\n",
    "mars_data = pd.read_html(mars_facts_url)\n",
    "mars_data[0]"
   ]
  },
  {
   "cell_type": "code",
   "execution_count": 18,
   "metadata": {},
   "outputs": [],
   "source": [
    "#convert to html table\n",
    "mars_data_table = mars_data[0].to_html('test.html')\n",
    "mars_data_table"
   ]
  },
  {
   "source": [
    "## Mars Hemispheres"
   ],
   "cell_type": "markdown",
   "metadata": {}
  },
  {
   "cell_type": "code",
   "execution_count": 20,
   "metadata": {},
   "outputs": [
    {
     "output_type": "stream",
     "name": "stderr",
     "text": [
      "[WDM] - ====== WebDriver manager ======\n",
      "\n",
      "\n",
      "[WDM] - Current google-chrome version is 89.0.4389\n",
      "[WDM] - Get LATEST driver version for 89.0.4389\n",
      "[WDM] - Driver [/Users/ericmedina/.wdm/drivers/chromedriver/mac64/89.0.4389.23/chromedriver] found in cache\n"
     ]
    }
   ],
   "source": [
    "executable_path = {'executable_path': ChromeDriverManager().install()}\n",
    "browser = Browser('chrome', **executable_path, headless=False)"
   ]
  },
  {
   "cell_type": "code",
   "execution_count": 24,
   "metadata": {},
   "outputs": [],
   "source": [
    "hemispheres_url = 'https://astrogeology.usgs.gov/search/results?q=hemisphere+enhanced&k1=target&v1=Mars'\n",
    "browser.visit(hemispheres_url)"
   ]
  },
  {
   "cell_type": "code",
   "execution_count": 27,
   "metadata": {},
   "outputs": [],
   "source": [
    "hemisphere_image_urls = []\n",
    "short_url = 'https://astrogeology.usgs.gov/'\n",
    "hemispheres_html = browser.html\n",
    "hemispheres_soup = BeautifulSoup(hemispheres_html, 'html.parser')\n",
    "hemisphere_items = hemispheres_soup.find('div', class_='collapsible results').find_all('div', class_='item')\n",
    "for hem_url in hemisphere_items:\n",
    "    browser.visit(short_url + hem_url.a['href'])\n",
    "    hemisphere_body = BeautifulSoup(browser.html, 'html.parser').find('div', class_='body')\n",
    "    image_title = hemisphere_body..find('div', class_='content').find('title').text\n",
    "    image_url = hemisphere_body.find('div', class_='downloads')\n",
    "\n"
   ]
  },
  {
   "cell_type": "code",
   "execution_count": null,
   "metadata": {},
   "outputs": [],
   "source": [
    "\n",
    "browser.quit()"
   ]
  }
 ]
}